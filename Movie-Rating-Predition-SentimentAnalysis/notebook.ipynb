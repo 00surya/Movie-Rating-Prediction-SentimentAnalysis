{
 "cells": [
  {
   "cell_type": "code",
   "execution_count": 1,
   "id": "60deac8d",
   "metadata": {},
   "outputs": [],
   "source": [
    "from nltk.corpus.reader import reviews\n",
    "import numpy as np\n",
    "import matplotlib.pyplot as plt\n",
    "\n",
    "from nltk.tokenize import RegexpTokenizer\n",
    "from nltk.stem.porter import PorterStemmer\n",
    "from nltk.corpus import stopwords\n",
    "import re"
   ]
  },
  {
   "cell_type": "code",
   "execution_count": 2,
   "id": "f6eafa6a",
   "metadata": {},
   "outputs": [],
   "source": [
    "tokenizer = RegexpTokenizer(r'\\w+')\n",
    "on_stopwords = set(stopwords.words('english'))\n",
    "ps = PorterStemmer()"
   ]
  },
  {
   "cell_type": "markdown",
   "id": "c954ba94",
   "metadata": {},
   "source": [
    "## Loading Data"
   ]
  },
  {
   "cell_type": "code",
   "execution_count": 3,
   "id": "13c067eb",
   "metadata": {},
   "outputs": [],
   "source": [
    "import pandas as pd"
   ]
  },
  {
   "cell_type": "code",
   "execution_count": 4,
   "id": "991503b6",
   "metadata": {},
   "outputs": [],
   "source": [
    "train_df = pd.read_csv('Train.csv')\n",
    "test_df = pd.read_csv(\"Test.csv\")"
   ]
  },
  {
   "cell_type": "code",
   "execution_count": 5,
   "id": "f1062d93",
   "metadata": {},
   "outputs": [
    {
     "data": {
      "text/html": [
       "<div>\n",
       "<style scoped>\n",
       "    .dataframe tbody tr th:only-of-type {\n",
       "        vertical-align: middle;\n",
       "    }\n",
       "\n",
       "    .dataframe tbody tr th {\n",
       "        vertical-align: top;\n",
       "    }\n",
       "\n",
       "    .dataframe thead th {\n",
       "        text-align: right;\n",
       "    }\n",
       "</style>\n",
       "<table border=\"1\" class=\"dataframe\">\n",
       "  <thead>\n",
       "    <tr style=\"text-align: right;\">\n",
       "      <th></th>\n",
       "      <th>review</th>\n",
       "      <th>label</th>\n",
       "    </tr>\n",
       "  </thead>\n",
       "  <tbody>\n",
       "    <tr>\n",
       "      <th>0</th>\n",
       "      <td>mature intelligent and highly charged melodram...</td>\n",
       "      <td>pos</td>\n",
       "    </tr>\n",
       "    <tr>\n",
       "      <th>1</th>\n",
       "      <td>http://video.google.com/videoplay?docid=211772...</td>\n",
       "      <td>pos</td>\n",
       "    </tr>\n",
       "    <tr>\n",
       "      <th>2</th>\n",
       "      <td>Title: Opera (1987) Director: Dario Argento Ca...</td>\n",
       "      <td>pos</td>\n",
       "    </tr>\n",
       "    <tr>\n",
       "      <th>3</th>\n",
       "      <td>I think a lot of people just wrote this off as...</td>\n",
       "      <td>pos</td>\n",
       "    </tr>\n",
       "    <tr>\n",
       "      <th>4</th>\n",
       "      <td>This is a story of two dogs and a cat looking ...</td>\n",
       "      <td>pos</td>\n",
       "    </tr>\n",
       "    <tr>\n",
       "      <th>5</th>\n",
       "      <td>Steve Carell comes into his own in his first s...</td>\n",
       "      <td>pos</td>\n",
       "    </tr>\n",
       "    <tr>\n",
       "      <th>6</th>\n",
       "      <td>I'm only going to write more because it's requ...</td>\n",
       "      <td>neg</td>\n",
       "    </tr>\n",
       "    <tr>\n",
       "      <th>7</th>\n",
       "      <td>OK, it was a \"risky\" move to rent this flick, ...</td>\n",
       "      <td>neg</td>\n",
       "    </tr>\n",
       "    <tr>\n",
       "      <th>8</th>\n",
       "      <td>Cannibalism, a pair of cinematic references to...</td>\n",
       "      <td>pos</td>\n",
       "    </tr>\n",
       "    <tr>\n",
       "      <th>9</th>\n",
       "      <td>This is one of the great modern kung fu films....</td>\n",
       "      <td>pos</td>\n",
       "    </tr>\n",
       "    <tr>\n",
       "      <th>10</th>\n",
       "      <td>Steve Martin looks like he's had a face lift. ...</td>\n",
       "      <td>neg</td>\n",
       "    </tr>\n",
       "    <tr>\n",
       "      <th>11</th>\n",
       "      <td>Robert Jordan is a television star. Robert Jor...</td>\n",
       "      <td>pos</td>\n",
       "    </tr>\n",
       "    <tr>\n",
       "      <th>12</th>\n",
       "      <td>Probably the best comedy in a long time. keeps...</td>\n",
       "      <td>pos</td>\n",
       "    </tr>\n",
       "    <tr>\n",
       "      <th>13</th>\n",
       "      <td>The earlier review is pretty much on target, w...</td>\n",
       "      <td>neg</td>\n",
       "    </tr>\n",
       "    <tr>\n",
       "      <th>14</th>\n",
       "      <td>It is depressing that many people don't unders...</td>\n",
       "      <td>pos</td>\n",
       "    </tr>\n",
       "    <tr>\n",
       "      <th>15</th>\n",
       "      <td>This, like Murder She Wrote, is one of those s...</td>\n",
       "      <td>pos</td>\n",
       "    </tr>\n",
       "    <tr>\n",
       "      <th>16</th>\n",
       "      <td>This film is a sleeper because Rod Steiger's i...</td>\n",
       "      <td>pos</td>\n",
       "    </tr>\n",
       "    <tr>\n",
       "      <th>17</th>\n",
       "      <td>Give director Stanley Tong of Jackie Chan's Su...</td>\n",
       "      <td>neg</td>\n",
       "    </tr>\n",
       "    <tr>\n",
       "      <th>18</th>\n",
       "      <td>This is another of my favorite Columbos. It sp...</td>\n",
       "      <td>pos</td>\n",
       "    </tr>\n",
       "    <tr>\n",
       "      <th>19</th>\n",
       "      <td>This film IS brilliant...... without a doubt. ...</td>\n",
       "      <td>pos</td>\n",
       "    </tr>\n",
       "  </tbody>\n",
       "</table>\n",
       "</div>"
      ],
      "text/plain": [
       "                                               review label\n",
       "0   mature intelligent and highly charged melodram...   pos\n",
       "1   http://video.google.com/videoplay?docid=211772...   pos\n",
       "2   Title: Opera (1987) Director: Dario Argento Ca...   pos\n",
       "3   I think a lot of people just wrote this off as...   pos\n",
       "4   This is a story of two dogs and a cat looking ...   pos\n",
       "5   Steve Carell comes into his own in his first s...   pos\n",
       "6   I'm only going to write more because it's requ...   neg\n",
       "7   OK, it was a \"risky\" move to rent this flick, ...   neg\n",
       "8   Cannibalism, a pair of cinematic references to...   pos\n",
       "9   This is one of the great modern kung fu films....   pos\n",
       "10  Steve Martin looks like he's had a face lift. ...   neg\n",
       "11  Robert Jordan is a television star. Robert Jor...   pos\n",
       "12  Probably the best comedy in a long time. keeps...   pos\n",
       "13  The earlier review is pretty much on target, w...   neg\n",
       "14  It is depressing that many people don't unders...   pos\n",
       "15  This, like Murder She Wrote, is one of those s...   pos\n",
       "16  This film is a sleeper because Rod Steiger's i...   pos\n",
       "17  Give director Stanley Tong of Jackie Chan's Su...   neg\n",
       "18  This is another of my favorite Columbos. It sp...   pos\n",
       "19  This film IS brilliant...... without a doubt. ...   pos"
      ]
     },
     "execution_count": 5,
     "metadata": {},
     "output_type": "execute_result"
    }
   ],
   "source": [
    "train_df.head(n=20)"
   ]
  },
  {
   "cell_type": "code",
   "execution_count": 6,
   "id": "039bdfaf",
   "metadata": {},
   "outputs": [],
   "source": [
    "X_train = train_df['review']\n",
    "Y_train = train_df['label']"
   ]
  },
  {
   "cell_type": "code",
   "execution_count": 7,
   "id": "7372467f",
   "metadata": {},
   "outputs": [
    {
     "name": "stdout",
     "output_type": "stream",
     "text": [
      "(40000,)\n",
      "(40000,)\n"
     ]
    }
   ],
   "source": [
    "print(X_train.shape)\n",
    "print(Y_train.shape)"
   ]
  },
  {
   "cell_type": "code",
   "execution_count": 8,
   "id": "add20704",
   "metadata": {},
   "outputs": [],
   "source": [
    "def getCleanReview(review):\n",
    "    \n",
    "    review = review.lower()\n",
    "    review = review.replace(\"<br /><br />\",\"\").replace(\"http\",\"\").replace(\"https\",\"\")\n",
    "    \n",
    "    #Tokenize \n",
    "    tokens = tokenizer.tokenize(review)\n",
    "    new_tokens = [token for token in tokens if token not in on_stopwords]\n",
    "    stemmed_tokens = [ps.stem(token) for token in new_tokens]\n",
    "    \n",
    "    cleaned_review = ' '.join(stemmed_tokens)\n",
    "    return cleaned_review"
   ]
  },
  {
   "cell_type": "code",
   "execution_count": 9,
   "id": "3ed83141",
   "metadata": {},
   "outputs": [],
   "source": [
    "X_train_cleaned = [getCleanReview(X) for X in X_train]\n",
    "X_train_cleaned = np.array(X_train_cleaned)"
   ]
  },
  {
   "cell_type": "code",
   "execution_count": 10,
   "id": "d737697d",
   "metadata": {},
   "outputs": [],
   "source": [
    "from sklearn.preprocessing import LabelEncoder\n",
    "le = LabelEncoder()\n",
    "Y_train = le.fit_transform(Y_train)"
   ]
  },
  {
   "cell_type": "code",
   "execution_count": 11,
   "id": "17dde16f",
   "metadata": {},
   "outputs": [
    {
     "name": "stdout",
     "output_type": "stream",
     "text": [
      "corpus_len = (40000,) | class_len = (40000,)\n"
     ]
    }
   ],
   "source": [
    "print(f\"corpus_len = {X_train_cleaned.shape} | class_len = {Y_train.shape}\")"
   ]
  },
  {
   "cell_type": "code",
   "execution_count": 12,
   "id": "ed59f573",
   "metadata": {},
   "outputs": [],
   "source": [
    "tokenizer = RegexpTokenizer('[a-zA-Z]+')\n",
    "def myTokenizer(document):\n",
    "    words = tokenizer.tokenize(document.lower())\n",
    "    return words"
   ]
  },
  {
   "cell_type": "markdown",
   "id": "2877c38d",
   "metadata": {},
   "source": [
    "## Vectorisation"
   ]
  },
  {
   "cell_type": "code",
   "execution_count": 13,
   "id": "1da4d31c",
   "metadata": {},
   "outputs": [],
   "source": [
    "from sklearn.feature_extraction.text import CountVectorizer"
   ]
  },
  {
   "cell_type": "code",
   "execution_count": 14,
   "id": "e0723275",
   "metadata": {},
   "outputs": [],
   "source": [
    "cv = CountVectorizer(ngram_range=(1,2),tokenizer=myTokenizer)"
   ]
  },
  {
   "cell_type": "code",
   "execution_count": 15,
   "id": "639f38d5",
   "metadata": {},
   "outputs": [],
   "source": [
    "vectorized_corpus = cv.fit_transform(X_train_cleaned,Y_train)"
   ]
  },
  {
   "cell_type": "code",
   "execution_count": 16,
   "id": "058681d6",
   "metadata": {},
   "outputs": [
    {
     "data": {
      "text/html": [
       "<div>\n",
       "<style scoped>\n",
       "    .dataframe tbody tr th:only-of-type {\n",
       "        vertical-align: middle;\n",
       "    }\n",
       "\n",
       "    .dataframe tbody tr th {\n",
       "        vertical-align: top;\n",
       "    }\n",
       "\n",
       "    .dataframe thead th {\n",
       "        text-align: right;\n",
       "    }\n",
       "</style>\n",
       "<table border=\"1\" class=\"dataframe\">\n",
       "  <thead>\n",
       "    <tr style=\"text-align: right;\">\n",
       "      <th></th>\n",
       "      <th>review</th>\n",
       "    </tr>\n",
       "  </thead>\n",
       "  <tbody>\n",
       "    <tr>\n",
       "      <th>0</th>\n",
       "      <td>Remember those old kung fu movies we used to w...</td>\n",
       "    </tr>\n",
       "    <tr>\n",
       "      <th>1</th>\n",
       "      <td>This movie is another one on my List of Movies...</td>\n",
       "    </tr>\n",
       "    <tr>\n",
       "      <th>2</th>\n",
       "      <td>How in the world does a thing like this get in...</td>\n",
       "    </tr>\n",
       "    <tr>\n",
       "      <th>3</th>\n",
       "      <td>\"Queen of the Damned\" is one of the best vampi...</td>\n",
       "    </tr>\n",
       "    <tr>\n",
       "      <th>4</th>\n",
       "      <td>The Caprica episode (S01E01) is well done as a...</td>\n",
       "    </tr>\n",
       "  </tbody>\n",
       "</table>\n",
       "</div>"
      ],
      "text/plain": [
       "                                              review\n",
       "0  Remember those old kung fu movies we used to w...\n",
       "1  This movie is another one on my List of Movies...\n",
       "2  How in the world does a thing like this get in...\n",
       "3  \"Queen of the Damned\" is one of the best vampi...\n",
       "4  The Caprica episode (S01E01) is well done as a..."
      ]
     },
     "execution_count": 16,
     "metadata": {},
     "output_type": "execute_result"
    }
   ],
   "source": [
    "test_df.head()"
   ]
  },
  {
   "cell_type": "code",
   "execution_count": 18,
   "id": "964d0f5e",
   "metadata": {},
   "outputs": [],
   "source": [
    "test_corpus = test_df['review']\n",
    "X_test_cleaned = [getCleanReview(X) for X in test_corpus]\n",
    "X_test_cleaned = np.array(X_test_cleaned)"
   ]
  },
  {
   "cell_type": "code",
   "execution_count": 19,
   "id": "a2cb2778",
   "metadata": {},
   "outputs": [],
   "source": [
    "test_vectorized_corpus = cv.transform(X_test_cleaned)"
   ]
  },
  {
   "cell_type": "code",
   "execution_count": 20,
   "id": "c801df2a",
   "metadata": {},
   "outputs": [
    {
     "data": {
      "text/plain": [
       "((10000, 2248742), (40000, 2248742))"
      ]
     },
     "execution_count": 20,
     "metadata": {},
     "output_type": "execute_result"
    }
   ],
   "source": [
    "test_vectorized_corpus.shape,vectorized_corpus.shape #should have same columns"
   ]
  },
  {
   "cell_type": "markdown",
   "id": "29b0f147",
   "metadata": {},
   "source": [
    "### 3.Multinomial Naive Bayes"
   ]
  },
  {
   "cell_type": "code",
   "execution_count": 21,
   "id": "98b85675",
   "metadata": {},
   "outputs": [],
   "source": [
    "from sklearn.naive_bayes import MultinomialNB"
   ]
  },
  {
   "cell_type": "code",
   "execution_count": 22,
   "id": "7e191e9f",
   "metadata": {},
   "outputs": [],
   "source": [
    "mnb = MultinomialNB()"
   ]
  },
  {
   "cell_type": "code",
   "execution_count": 23,
   "id": "e5096cc1",
   "metadata": {},
   "outputs": [
    {
     "data": {
      "text/plain": [
       "MultinomialNB()"
      ]
     },
     "execution_count": 23,
     "metadata": {},
     "output_type": "execute_result"
    }
   ],
   "source": [
    "mnb.fit(vectorized_corpus,Y_train)"
   ]
  },
  {
   "cell_type": "code",
   "execution_count": 43,
   "id": "32dbd3a6",
   "metadata": {},
   "outputs": [],
   "source": [
    "i = 0\n",
    "results = []\n",
    "for sentiment in test_vectorized_corpus:\n",
    "    c = X_test_cleaned[i],mnb.predict(sentiment)\n",
    "    results.append(c)\n",
    "    i+=1\n",
    "    if i==10:\n",
    "        break"
   ]
  },
  {
   "cell_type": "code",
   "execution_count": 45,
   "id": "145d7e50",
   "metadata": {},
   "outputs": [],
   "source": [
    "import pandas as pd"
   ]
  },
  {
   "cell_type": "code",
   "execution_count": 66,
   "id": "8c8bd5ed",
   "metadata": {},
   "outputs": [],
   "source": [
    " pd.options.display.max_colwidth = 2000  "
   ]
  },
  {
   "cell_type": "code",
   "execution_count": 67,
   "id": "d01bfbfb",
   "metadata": {},
   "outputs": [],
   "source": [
    "result_df = pd.DataFrame(results)\n",
    "\n",
    "result_df.columns = [\"review\",\"prediction(0-negative,1-positve)\"]"
   ]
  },
  {
   "cell_type": "code",
   "execution_count": 68,
   "id": "baa41ab0",
   "metadata": {},
   "outputs": [
    {
     "data": {
      "text/html": [
       "<div>\n",
       "<style scoped>\n",
       "    .dataframe tbody tr th:only-of-type {\n",
       "        vertical-align: middle;\n",
       "    }\n",
       "\n",
       "    .dataframe tbody tr th {\n",
       "        vertical-align: top;\n",
       "    }\n",
       "\n",
       "    .dataframe thead th {\n",
       "        text-align: right;\n",
       "    }\n",
       "</style>\n",
       "<table border=\"1\" class=\"dataframe\">\n",
       "  <thead>\n",
       "    <tr style=\"text-align: right;\">\n",
       "      <th></th>\n",
       "      <th>review</th>\n",
       "      <th>prediction(0-negative,1-positve)</th>\n",
       "    </tr>\n",
       "  </thead>\n",
       "  <tbody>\n",
       "    <tr>\n",
       "      <th>0</th>\n",
       "      <td>rememb old kung fu movi use watch friday saturday late night babysitt thought charg well movi play exactli like one movi patsi kensit biggest claim fame love interest mel gibson charact lethal weapon perform one reason never made big terribl actress lethal weapon thought cute cute enough check movi includ love music love danc anoth big let obvious impress either attract eye soul scream turn play anoth cheap predict role done badli movi kensit star comedienn good one either work club franc cut homeland make ear bleed luck even wors french govern want throw expir visa mayb caught act get marri casanova freiss luck predict begin terribl way give movi neg rate star rate</td>\n",
       "      <td>[0]</td>\n",
       "    </tr>\n",
       "    <tr>\n",
       "      <th>1</th>\n",
       "      <td>movi anoth one list movi bother saw year ago adolesc stay late annoy find romanc everyth els histori call bait switch movi one interest titl actual movi scam subject deserv good cinemat treatment movi almost insult serv actual member lafayett escadril run law product abus home realiti idealist want someth help franc suspect mani came upper class background tab hunter charact fli school smart aleck know all individu one portray last two day would either stockad infantri disciplin french armi often rather fierc short anoth hollywierd version histor episod deserv proper treatment</td>\n",
       "      <td>[0]</td>\n",
       "    </tr>\n",
       "    <tr>\n",
       "      <th>2</th>\n",
       "      <td>world thing like get dvd player home even get packag distribut absolut zero screen movi use term loos go put video store shelf anymor diy film make come entitl get group friend rel togeth crappi camcord aw stori put togeth creat heap pile crap call movi wish peopl would quit use word indi campi describ type movi either profess would someth like consid accept someon tri sell car bad movi take back say lemon surgic procedur su doctor malpractic wish could get time money back watch shame video store stock movi like rip public want campi go get friday th movi even later one dead aliv least make want kill movi like make peopl automat equat independ garbag</td>\n",
       "      <td>[0]</td>\n",
       "    </tr>\n",
       "    <tr>\n",
       "      <th>3</th>\n",
       "      <td>queen damn one best vampir movi ever seen movi suspens action gore combin fierc demand attitud queen rock mood star well act stuart townsend make wonder done movi combin creat alway one give advic friend famili member movi worthi rent ask queen damn worthi tell worthi buy movi sure must horror movi lover home</td>\n",
       "      <td>[1]</td>\n",
       "    </tr>\n",
       "    <tr>\n",
       "      <th>4</th>\n",
       "      <td>caprica episod e well done pilot realli episod exact content dvd pilot releas said episod give substant background popular battlestar galactica seri origin remak significantli appli seri trend plot sci fi late seri explor virtual life environ top given much background adama famili line well relationship unrev battlestar galactica seri creator cylon part first episod revolv around popular topic virtual life expect earli life coloni birth cylon rather enjoy episod although new materi anyon alreadi seen dvd releas caprica pilot seri seem promis case mani pilot episod leav us cliff hanger ensur follow audienc sci fi commun definit go keep watch resolv well develop give seri star</td>\n",
       "      <td>[1]</td>\n",
       "    </tr>\n",
       "    <tr>\n",
       "      <th>5</th>\n",
       "      <td>usual realli enjoy steven seagal movi usual highli entertain somewhat adept aikido usual like way steven incorpor martial art techniqu fight sequenc howev film realli bad movi make effort seem obviou blame lie director produc obvious idea make action movi let alon direct someon like steven seagal take advantag knowledg compet never saw end movi walk end simpli stand watch anymor bad movi sure mani peopl also share feel</td>\n",
       "      <td>[0]</td>\n",
       "    </tr>\n",
       "    <tr>\n",
       "      <th>6</th>\n",
       "      <td>ji trnka made last anim short indict totalitar caus troubl nativ czechoslovakia element symbol simpl trademark ornament almost absent allow viewer concentr fabl man room dedic potteri take care plant suddenli huge hand enter room order make statu man refus persecut omin glove hand day impress realiti factor seem eras anim tri replac real world refresh watch film make techniqu part enjoy</td>\n",
       "      <td>[1]</td>\n",
       "    </tr>\n",
       "    <tr>\n",
       "      <th>7</th>\n",
       "      <td>bad contribut next bad movi parti go clear start steve gutenburg take role serious principl walk line think got whiff much stank earli go motion paycheck sean bean act usual spare share space screen principl till final scene like actor walk onto high school stage defin contrast actor look good scruffi actor bulk part two statement appli polic academi steve scruffi look translat bum indig bulk make look potato lumpi buff pair one worst script dialogu hollywood histori bad movi guess principl realli realli need money remodel someth agent sign script written monkey must type would love know back stori disast</td>\n",
       "      <td>[0]</td>\n",
       "    </tr>\n",
       "    <tr>\n",
       "      <th>8</th>\n",
       "      <td>watch hilari retro entertain career girl tale floor joan crawford first appear could think initi god face michael jackson notori book photo minut movi dian baker hope lang get cab greenwich villag walk street see part sign back stonewal bar scene epoch riot consid trigger modern gay right movement speak baker taxi laugh get one tell cabbi th sutton place pleas care bump imagin reaction driver today manhattan say cours pregnant want hurt fetu stop jump move car find bob evan want abort well find way lose babi sue carson delight mari agn movi biograph inform imdb</td>\n",
       "      <td>[1]</td>\n",
       "    </tr>\n",
       "    <tr>\n",
       "      <th>9</th>\n",
       "      <td>excel polit thriller play much quieter slower higher rank film genr peopl talk pacino cusack manag skip amaz career top perform stori friendship father son relationship corrupt deceit two actor gel amazingli well togeth support aiello fonda equal impress although aiello brilliant especi paper run press instead focuss complex corrupt scandal creat wonder charact show human side failur polit briberi final scene main charact wonder written act</td>\n",
       "      <td>[1]</td>\n",
       "    </tr>\n",
       "  </tbody>\n",
       "</table>\n",
       "</div>"
      ],
      "text/plain": [
       "                                                                                                                                                                                                                                                                                                                                                                                                                                                                                                                                                                                                                                                                                                        review  \\\n",
       "0           rememb old kung fu movi use watch friday saturday late night babysitt thought charg well movi play exactli like one movi patsi kensit biggest claim fame love interest mel gibson charact lethal weapon perform one reason never made big terribl actress lethal weapon thought cute cute enough check movi includ love music love danc anoth big let obvious impress either attract eye soul scream turn play anoth cheap predict role done badli movi kensit star comedienn good one either work club franc cut homeland make ear bleed luck even wors french govern want throw expir visa mayb caught act get marri casanova freiss luck predict begin terribl way give movi neg rate star rate   \n",
       "1                                                                                                      movi anoth one list movi bother saw year ago adolesc stay late annoy find romanc everyth els histori call bait switch movi one interest titl actual movi scam subject deserv good cinemat treatment movi almost insult serv actual member lafayett escadril run law product abus home realiti idealist want someth help franc suspect mani came upper class background tab hunter charact fli school smart aleck know all individu one portray last two day would either stockad infantri disciplin french armi often rather fierc short anoth hollywierd version histor episod deserv proper treatment   \n",
       "2                           world thing like get dvd player home even get packag distribut absolut zero screen movi use term loos go put video store shelf anymor diy film make come entitl get group friend rel togeth crappi camcord aw stori put togeth creat heap pile crap call movi wish peopl would quit use word indi campi describ type movi either profess would someth like consid accept someon tri sell car bad movi take back say lemon surgic procedur su doctor malpractic wish could get time money back watch shame video store stock movi like rip public want campi go get friday th movi even later one dead aliv least make want kill movi like make peopl automat equat independ garbag   \n",
       "3                                                                                                                                                                                                                                                                                                                                                                                       queen damn one best vampir movi ever seen movi suspens action gore combin fierc demand attitud queen rock mood star well act stuart townsend make wonder done movi combin creat alway one give advic friend famili member movi worthi rent ask queen damn worthi tell worthi buy movi sure must horror movi lover home   \n",
       "4  caprica episod e well done pilot realli episod exact content dvd pilot releas said episod give substant background popular battlestar galactica seri origin remak significantli appli seri trend plot sci fi late seri explor virtual life environ top given much background adama famili line well relationship unrev battlestar galactica seri creator cylon part first episod revolv around popular topic virtual life expect earli life coloni birth cylon rather enjoy episod although new materi anyon alreadi seen dvd releas caprica pilot seri seem promis case mani pilot episod leav us cliff hanger ensur follow audienc sci fi commun definit go keep watch resolv well develop give seri star   \n",
       "5                                                                                                                                                                                                                                                                       usual realli enjoy steven seagal movi usual highli entertain somewhat adept aikido usual like way steven incorpor martial art techniqu fight sequenc howev film realli bad movi make effort seem obviou blame lie director produc obvious idea make action movi let alon direct someon like steven seagal take advantag knowledg compet never saw end movi walk end simpli stand watch anymor bad movi sure mani peopl also share feel   \n",
       "6                                                                                                                                                                                                                                                                                                        ji trnka made last anim short indict totalitar caus troubl nativ czechoslovakia element symbol simpl trademark ornament almost absent allow viewer concentr fabl man room dedic potteri take care plant suddenli huge hand enter room order make statu man refus persecut omin glove hand day impress realiti factor seem eras anim tri replac real world refresh watch film make techniqu part enjoy   \n",
       "7                                                                         bad contribut next bad movi parti go clear start steve gutenburg take role serious principl walk line think got whiff much stank earli go motion paycheck sean bean act usual spare share space screen principl till final scene like actor walk onto high school stage defin contrast actor look good scruffi actor bulk part two statement appli polic academi steve scruffi look translat bum indig bulk make look potato lumpi buff pair one worst script dialogu hollywood histori bad movi guess principl realli realli need money remodel someth agent sign script written monkey must type would love know back stori disast   \n",
       "8                                                                                                                      watch hilari retro entertain career girl tale floor joan crawford first appear could think initi god face michael jackson notori book photo minut movi dian baker hope lang get cab greenwich villag walk street see part sign back stonewal bar scene epoch riot consid trigger modern gay right movement speak baker taxi laugh get one tell cabbi th sutton place pleas care bump imagin reaction driver today manhattan say cours pregnant want hurt fetu stop jump move car find bob evan want abort well find way lose babi sue carson delight mari agn movi biograph inform imdb   \n",
       "9                                                                                                                                                                                                                                                 excel polit thriller play much quieter slower higher rank film genr peopl talk pacino cusack manag skip amaz career top perform stori friendship father son relationship corrupt deceit two actor gel amazingli well togeth support aiello fonda equal impress although aiello brilliant especi paper run press instead focuss complex corrupt scandal creat wonder charact show human side failur polit briberi final scene main charact wonder written act   \n",
       "\n",
       "  prediction(0-negative,1-positve)  \n",
       "0                              [0]  \n",
       "1                              [0]  \n",
       "2                              [0]  \n",
       "3                              [1]  \n",
       "4                              [1]  \n",
       "5                              [0]  \n",
       "6                              [1]  \n",
       "7                              [0]  \n",
       "8                              [1]  \n",
       "9                              [1]  "
      ]
     },
     "execution_count": 68,
     "metadata": {},
     "output_type": "execute_result"
    }
   ],
   "source": [
    "result_df"
   ]
  },
  {
   "cell_type": "code",
   "execution_count": null,
   "id": "3f6ae6d3",
   "metadata": {},
   "outputs": [],
   "source": []
  }
 ],
 "metadata": {
  "kernelspec": {
   "display_name": "Python 3 (ipykernel)",
   "language": "python",
   "name": "python3"
  },
  "language_info": {
   "codemirror_mode": {
    "name": "ipython",
    "version": 3
   },
   "file_extension": ".py",
   "mimetype": "text/x-python",
   "name": "python",
   "nbconvert_exporter": "python",
   "pygments_lexer": "ipython3",
   "version": "3.9.7"
  }
 },
 "nbformat": 4,
 "nbformat_minor": 5
}
